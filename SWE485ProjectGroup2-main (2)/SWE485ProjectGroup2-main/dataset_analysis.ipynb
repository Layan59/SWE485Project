{
 "cells": [
  {
   "cell_type": "code",
   "execution_count": null,
   "id": "9fff796e-24a5-43fb-817e-d59f088c978c",
   "metadata": {},
   "outputs": [],
   "source": []
  }
 ],
 "metadata": {
  "kernelspec": {
   "display_name": "",
   "name": ""
  },
  "language_info": {
   "name": ""
  }
 },
 "nbformat": 4,
 "nbformat_minor": 5
}
