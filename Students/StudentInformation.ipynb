{
 "cells": [
  {
   "cell_type": "code",
   "execution_count": null,
   "id": "9fff796e-24a5-43fb-817e-d59f088c978c",
   "metadata": {},
   "outputs": [],
   "source": []
  },
  {
   "cell_type": "markdown",
   "id": "119ea7f0",
   "metadata": {},
   "source": [
    "1.\n",
    "2. Layan Abdullah Abualghaith 443200519\n",
    "3. Waad Almutairi 443200547\n",
    "4. Bodor Almutairi 441200343 \n",
    "5.\n",
    "Project's motivation: \n",
    "Early disease identification and healthcare accessibility are becoming increasingly important, which is why this dataset and challenge were chosen. Based only on their symptoms, many people find it difficult to determine the medical care they need, which frequently results in complications and delayed diagnosis.\n",
    "\n",
    "Our ambition is to use this dataset to create a system that may help forecast possible illnesses based on symptoms that people have reported. This will assist medical personnel in effectively assessing patients in addition to giving people rapid insights.\n",
    "\n",
    "In addition, the dataset offers a wide range of illnesses, symptoms, and preventative treatments, which makes it a great tool for using machine learning methods to address actual health-related problems. Using artificial intelligence, we hope to help improve healthcare support systems."
   ]
  }
 ],
 "metadata": {
  "kernelspec": {
   "display_name": "Python 3 (ipykernel)",
   "language": "python",
   "name": "python3"
  },
  "language_info": {
   "codemirror_mode": {
    "name": "ipython",
    "version": 3
   },
   "file_extension": ".py",
   "mimetype": "text/x-python",
   "name": "python",
   "nbconvert_exporter": "python",
   "pygments_lexer": "ipython3",
   "version": "3.9.13"
  }
 },
 "nbformat": 4,
 "nbformat_minor": 5
}
