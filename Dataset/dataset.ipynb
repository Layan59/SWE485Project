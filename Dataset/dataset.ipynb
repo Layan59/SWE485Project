{
    "cells": [
     {
      "cell_type": "code",
      "execution_count": null,
      "id": "9fff796e-24a5-43fb-817e-d59f088c978c",
      "metadata": {},
      "outputs": [],
      "source": []
     },
     {
      "cell_type": "markdown",
      "id": "119ea7f0",
      "metadata": {},
      "source": [
       "## The goal of the dataset\n",
       "- **Dataset URL:** [Disease Symptom Description Dataset on Kaggle](https://www.kaggle.com/datasets/itachi9604/disease-symptom-description-dataset)\n",
       "\n",
       "### General Information\n",
       "The purpose of this dataset is to help researchers and students create systems connected to healthcare. It contains thorough details on a range of illnesses, including descriptions of the conditions, symptoms, and preventative actions. The dataset can be easily cleaned and processed using data handling techniques in any programming language because it is provided in CSV format.\n",
       "\n",
       "### Attributes (Columns):\n",
       "1. **Disease:** (Categorical) - The name of the disease.\n",
       "2. **Symptoms:** (Text - list of symptoms) - Symptoms commonly associated with the disease.\n",
       "3. **Description:** (Text) - A brief medical summary of the disease.\n",
       "4. **Precautionary Steps:** (Text - multiple columns: Precaution_1, Precaution_2, Precaution_3, Precaution_4) - Suggested measures to prevent the condition from worsening.\n",
       "\n",
       "### Note\n",
       "No specific therapy recommendations are included in the dataset. The preventative measures offer broad recommendations for handling medical issues."
      ]
     },
     {
      "cell_type": "code",
      "execution_count": null,
      "id": "cb86eab4",
      "metadata": {},
      "outputs": [],
      "source": [
       "import pandas as pd\n",
       "import matplotlib.pyplot as plt\n",
       "\n",
       "# Load the raw and cleaned datasets\n",
       "raw_data = pd.read_csv('Dataset/datasetDiseaseSymptomPrediction.csv')\n",
       "cleaned_data = pd.read_csv('Code/cleaned_dataset.csv')\n",
       "\n",
       "# Summary statistics before cleaning\n",
       "raw_summary = {\n",
       "    'Dataset': 'Raw Data',\n",
       "    'Rows': raw_data.shape[0],\n",
       "    'Columns': raw_data.shape[1],\n",
       "    'Missing Values': raw_data.isnull().sum().sum()\n",
       "}\n",
       "\n",
       "# Summary statistics after cleaning\n",
       "cleaned_summary = {\n",
       "    'Dataset': 'Cleaned Data',\n",
       "    'Rows': cleaned_data.shape[0],\n",
       "    'Columns': cleaned_data.shape[1],\n",
       "    'Missing Values': cleaned_data.isnull().sum().sum()\n",
       "}\n",
       "\n",
       "# Create a DataFrame for the summaries\n",
       "summary_df = pd.DataFrame([raw_summary, cleaned_summary])\n",
       "\n",
       "# Plotting the summary as a table\n",
       "plt.figure(figsize=(8, 4))\n",
       "plt.axis('tight')\n",
       "plt.axis('off')\n",
       "plt.table(cellText=summary_df.values, colLabels=summary_df.columns, cellLoc='center', loc='center')\n",
       "plt.title('Summary of Raw vs Cleaned Data')\n",
       "plt.show()\n",
       "\n",
       "# Plotting the comparison as a bar chart\n",
       "summary_df.set_index('Dataset')[['Rows', 'Columns', 'Missing Values']].plot(kind='bar', figsize=(10, 6), alpha=0.7)\n",
       "plt.title('Comparison of Raw and Cleaned Data')\n",
       "plt.ylabel('Count')\n",
       "plt.xlabel('Dataset')\n",
       "plt.xticks(rotation=0)\n",
       "plt.tight_layout()\n",
       "plt.show()"
      ]
     },
     {
      "cell_type": "markdown",
      "id": "6730dbcb",
      "metadata": {},
      "source": [
       "### Preprocessing Techniques\n",
       "We used **One-Hot Encoding** to convert symptoms into numerical values because machine learning models can't handle text. In this method, each symptom becomes its own column. If the symptom is present, we put `1`; if not, we put `0`."
      ]
     },
     {
      "cell_type": "code",
      "execution_count": null,
      "id": "42c24fb7",
      "metadata": {},
      "outputs": [],
      "source": [
       "from sklearn.preprocessing import MultiLabelBinarizer\n",
       "\n",
       "# Reading dataset\n",
       "df = pd.read_csv('Dataset/datasetDiseaseSymptomPrediction.csv')\n",
       "symptom_columns = df.columns[1:]\n",
       "\n",
       "# Combine all symptoms into a list\n",
       "df['Symptoms'] = df[symptom_columns].values.tolist()\n",
       "\n",
       "# Remove 'None' or NaN\n",
       "df['Symptoms'] = df['Symptoms'].apply(lambda x: [s for s in x if pd.notnull(s) and s != 'None'])\n",
       "\n",
       "# Apply One-Hot Encoding\n",
       "mlb = MultiLabelBinarizer()\n",
       "symptom_encoded = mlb.fit_transform(df['Symptoms'])\n",
       "df_encoded = pd.DataFrame(symptom_encoded, columns=mlb.classes_)\n",
       "\n",
       "# Combine with the target variable (Disease)\n",
       "df_cleaned = pd.concat([df[['Disease']], df_encoded], axis=1)\n",
       "\n",
       "# Save the cleaned dataset\n",
       "df_cleaned.to_csv('Code/cleaned_dataset.csv', index=False)"
      ]
     }
    ],
    "metadata": {
     "kernelspec": {
      "display_name": "Python 3 (ipykernel)",
      "language": "python",
      "name": "python3"
     },
     "language_info": {
      "name": "python",
      "version": "3.9.13"
     }
    },
    "nbformat": 4,
    "nbformat_minor": 5
   }
   