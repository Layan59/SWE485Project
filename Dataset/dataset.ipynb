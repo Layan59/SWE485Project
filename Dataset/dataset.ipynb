{
 "cells": [
  {
   "cell_type": "code",
   "execution_count": null,
   "id": "9fff796e-24a5-43fb-817e-d59f088c978c",
   "metadata": {},
   "outputs": [],
   "source": []
  },
  {
   "cell_type": "markdown",
   "id": "119ea7f0",
   "metadata": {},
   "source": [
    "The goal of the dataset\n",
    "\n",
    " • Dataset URL: [Disease Symptom Description Dataset on Kaggle](https://www.kaggle.com/datasets/itachi9604/disease-symptom-description-dataset)\n",
    "\n",
    "General information:\n",
    "\n",
    "The purpose of this dataset is to help researchers and students create systems connected to healthcare. It contains thorough details on a range of illnesses, including descriptions of the conditions, symptoms, and preventative actions. The dataset can be easily cleaned and processed using data handling techniques in any programming language because it is provided in CSV format.\n",
    "\n",
    "Attributes (Columns):\n",
    "1.\tDisease:\n",
    "o\tType: Categorical (text)\n",
    "o\tDescription: The name of the disease.\n",
    "2.\tSymptoms:\n",
    "o\tType: Text (list of symptoms)\n",
    "o\tDescription: Symptoms commonly associated with the disease.\n",
    "3.\tDescription:\n",
    "o\tType: Text\n",
    "o\tDescription: A brief medical summary of the disease.\n",
    "4.\tPrecautionary Steps:\n",
    "o\tType: Text (multiple columns: Precaution_1, Precaution_2, Precaution_3, Precaution_4)\n",
    "o\tDescription: Suggested measures to prevent the condition from worsening.\n",
    "\n",
    "Note: No particular therapy recommendations are included in the dataset. Nonetheless, the preventative measures offer broad recommendations for handling medical issues.\n",
    "\n",
    ### Summary of the dataset

### Dataset Overview: Disease Symptom Prediction

The "datasetDiseaseSymptomPrediction.csv" dataset serves as a valuable resource for predicting diseases based on various symptoms reported by patients. It provides a structured approach to understanding the relationship between symptoms and potential diseases.

### Key Aspects:
- **Disease Identification**: Each row contains the name of a specific disease, allowing for straightforward classification.
- **Symptom Representation**: The dataset includes up to 17 columns dedicated to individual symptoms, capturing a comprehensive range of clinical manifestations associated with each disease.

### Structure:
- **Rows**: Each entry corresponds to a unique instance, detailing one disease and its related symptoms.
- **Columns**:
  - **1 Column**: Disease name.
  - **17 Columns**: Symptoms, which may include conditions like itching, vomiting, and fatigue. Some symptom columns may be empty if a symptom does not apply.
### Purpose:
The primary aim of this dataset is to support the creation of predictive models that assist healthcare professionals in diagnosing diseases by analyzing reported symptoms. This can improve diagnostic accuracy and patient care by leveraging data-driven insights.

### Sample table before clean dataset:

| Disease               | Symptom_1            | Symptom_2              | Symptom_3          | Symptom_4           | Symptom_5          | Symptom_6          | Symptom_7          | Symptom_8          | Symptom_9          | Symptom_10         | Symptom_11         | Symptom_12         | Symptom_13         | Symptom_14         | Symptom_15         | Symptom_16         | Symptom_17         |
|----------------------|----------------------|------------------------|--------------------|---------------------|--------------------|--------------------|--------------------|--------------------|--------------------|---------------------|---------------------|---------------------|---------------------|---------------------|---------------------|---------------------|---------------------|
| Fungal infection      | itching              | skin_rash              | nodal_skin_eruptions| dischromic_patches   |                     |                    |                    |                    |                    |                     |                     |                     |                     |                     |                     |                     |                     |
| Allergy               | continuous_sneezing  | shivering              | chills             | watering_from_eyes   |                     |                    |                    |                    |                    |                     |                     |                     |                     |                     |                     |                     |                     |
| GERD                 | stomach_pain         | acidity                | ulcers_on_tongue   | vomiting             | cough              | chest_pain         |                    |                    |                    |                     |                     |                     |                     |                     |                     |                     |                     |
| Diabetes              | fatigue              | weight_loss            | restlessness       | lethargy            | irregular_sugar_level| blurred_and_distorted_vision | obesity         | excessive_hunger    | increased_appetite   | polyuria            |                     |                     |                     |                     |                     |                     |                     |
| Jaundice             | itching              | vomiting               | fatigue            | weight_loss          | high_fever         | yellowish_skin     | dark_urine         | abdominal_pain      |                     |                     |                     |                     |                     |                     |                     |                     |                     |

### Key Observations:

1. **Disease Identification**: Each row clearly identifies a specific disease.
2. **Symptom Variety**: Up to 17 symptoms are associated with each disease, indicating diverse clinical presentations.
3. **Missing Data**: Some symptom columns are empty, suggesting not all symptoms apply universally.
4. **Predictive Potential**: The dataset is structured for machine learning, aiding in disease prediction based on symptoms.
5. **Common Symptoms**: Certain symptoms, such as **itching**, appear across multiple diseases (e.g., **Fungal Infection** and **Jaundice**), indicating possible overlaps in clinical presentations.

import pandas as pd
import matplotlib.pyplot as plt

# Load the raw and cleaned datasets
raw_data = pd.read_csv(r'C:\Users\Asus\SWE485ProjectGroup2-main\Dataset\datasetDiseaseSymptomPrediction.csv')  # Original dataset
cleaned_data = pd.read_csv(r'C:\Users\Asus\SWE485ProjectGroup2-main\Code\cleaned_dataset.csv')  # Cleaned dataset

# Summary statistics before cleaning
raw_summary = {
    'Dataset': 'Raw Data',
    'Rows': raw_data.shape[0],
    'Columns': raw_data.shape[1],
    'Missing Values': raw_data.isnull().sum().sum()
}

# Summary statistics after cleaning
cleaned_summary = {
    'Dataset': 'Cleaned Data',
    'Rows': cleaned_data.shape[0],
    'Columns': cleaned_data.shape[1],
    'Missing Values': cleaned_data.isnull().sum().sum()
}

# Create a DataFrame for the summaries
summary_df = pd.DataFrame([raw_summary, cleaned_summary])

# Plotting the summary as a table
plt.figure(figsize=(8, 4))
plt.axis('tight')
plt.axis('off')
plt.table(cellText=summary_df.values, colLabels=summary_df.columns, cellLoc='center', loc='center')
plt.title('Summary of Raw vs Cleaned Data')
plt.show()

# Plotting the comparison as a bar chart
summary_df.set_index('Dataset').plot(kind='bar', figsize=(10, 6), alpha=0.7)
plt.title('Comparison of Raw and Cleaned Data')
plt.ylabel('Count')
plt.xlabel('Dataset')
plt.xticks(rotation=0)
plt.tight_layout()
plt.show()


### Explanation of the Code and Recurring Symptoms

This code analyzes and compares a raw dataset with a cleaned version, focusing on key summary statistics.

1. **Summary Statistics**:
   - **Raw Data**: Displays the number of rows, columns, and missing values.
   - **Cleaned Data**: Shows the same metrics after cleaning, highlighting improvements in data quality.

2. **Recurring Symptoms**:
   - In the **raw dataset**, recurring symptoms may appear with duplications and inconsistencies.
   - After cleaning, the **cleaned dataset** presents a clearer view of these symptoms, allowing for more accurate analysis of patterns and relationships essential for diagnosis.

### Text Summary

"This analysis compares the raw and cleaned datasets, showcasing improvements in data quality through summary statistics. The focus on recurring symptoms reveals how cleaning removes duplication and inconsistencies, enabling better pattern recognition vital for healthcare decisions."
    "Preprocessing techniques:\n",
    "\n",
    "We used One-Hot Encoding to convert symptoms into numerical values because machine learning models can't handle text and need numerical values to process the data.In this method, each symptom becomes its own column. If the symptom is present, we put 1, and if it's not, we put 0. \n",
    "\n"
   ]
  },
  {
   "cell_type": "code",
   "execution_count": null,
   "id": "cb86eab4",
   "metadata": {},
   "outputs": [],
   "source": [
    "import pandas as pd\n",
    "\n",
    "# We used pd.read_csv() because it's the standard method for reading CSV files, which is the format the dataset is stored in.This step loads the data into a DataFrame so we can work with it in Python.\n",
    "df = pd.read_csv(\"Dataset/datasetDiseaseSymptomPrediction.csv\")  \n",
    "\n",
    "# The first column (Disease) is the target variable (the disease name), so I want to exclude it when processing symptoms. The rest of the columns represent symptoms, so I need to identify them to perform One-Hot Encoding.\n",
    "symptom_columns = df.columns[1:]  \n",
    "\n",
    "# To make the data easier to process, I combined all symptoms for each patient into a single list. This helps later when applying One-Hot Encoding to the symptoms\n",
    "df[\"Symptoms\"] = df[symptom_columns].values.tolist()\n",
    "\n",
    "# The \"None\" values represent the absence of a symptom, and they don't contribute to the One-Hot Encoding process. So, I removed them to avoid unnecessary noise n the data\n",
    "df[\"Symptoms\"] = df[\"Symptoms\"].apply(lambda x: list(set(x) - {\"None\"}))\n",
    "\n",
    "# We used MultiLabelBinarizer to convert the list of symptoms for each patient into numerical values using One-Hot Encoding.\n",
    "from sklearn.preprocessing import MultiLabelBinarizer\n",
    "\n",
    "# MultiLabelBinarizer is an effective tool for converting multi-label data (such as symptoms in this case) into a One-Hot representation. This step is crucial because we need to transform the symptoms into binary values (0 or 1), where 1 means the symptom is present and 0 means it's not.\n",
    "mlb = MultiLabelBinarizer()\n",
    "\n",
    "# To ensure MultiLabelBinarizer works properly, we convert each symptom to a string. This ensures that the binarizer operates correctly.\n",
    "df[\"Symptoms\"] = df[\"Symptoms\"].apply(lambda x: [str(s) for s in x])\n",
    "\n",
    "# This is the core step where One-Hot Encoding is applied.\n",
    "symptom_encoded = mlb.fit_transform(df[\"Symptoms\"])\n",
    "\n",
    "# After applying One-Hot Encoding, the result is a matrix of 0s and 1s. We convert this matrix into a DataFrame with meaningful column names, which are the actual symptoms, This makes it easier to interpret the data and perform further analysis.\n",
    "df_encoded = pd.DataFrame(symptom_encoded, columns=mlb.classes_)\n",
    "\n",
    "# After encoding the symptoms, we need to combine them with the target variable (Disease) to create a comprehensive dataset. This step ensures that the final dataset includes both the disease label and the encoded symptoms\n",
    "df_cleaned = pd.concat([df[[\"Disease\"]], df_encoded], axis=1)\n",
    "\n",
    "# Display all columns in the DataFrame\n",
    "pd.set_option('display.max_columns', None)  # Display all columns\n",
    "pd.set_option('display.width', None) # Remove any line breaks for large tables\n",
    "\n",
    "# Display the final processed dataset\n",
    "print(df_cleaned.head())  \n",
    "\n",
    "# Once the data is preprocessed, we save it in a new CSV file for future use.\n",
    "df_cleaned.to_csv(\"cleaned_dataset.csv\", index=False)\n",
    "\n"
   ]
  },
  {
   "cell_type": "markdown",
   "id": "6730dbcb",
   "metadata": {},
   "source": []
  },
  {
   "cell_type": "code",
   "execution_count": null,
   "id": "42c24fb7",
   "metadata": {},
   "outputs": [],
   "source": []
  }
 ],
 "metadata": {
  "kernelspec": {
   "display_name": "Python 3 (ipykernel)",
   "language": "python",
   "name": "python3"
  },
  "language_info": {
   "codemirror_mode": {
    "name": "ipython",
    "version": 3
   },
   "file_extension": ".py",
   "mimetype": "text/x-python",
   "name": "python",
   "nbconvert_exporter": "python",
   "pygments_lexer": "ipython3",
   "version": "3.9.13"
  }
 },
 "nbformat": 4,
 "nbformat_minor": 5
}
