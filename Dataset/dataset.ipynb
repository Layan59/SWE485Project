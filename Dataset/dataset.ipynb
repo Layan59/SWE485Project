{
 "cells": [
  {
   "cell_type": "code",
   "execution_count": null,
   "id": "9fff796e-24a5-43fb-817e-d59f088c978c",
   "metadata": {},
   "outputs": [],
   "source": []
  },
  {
   "cell_type": "markdown",
   "id": "119ea7f0",
   "metadata": {},
   "source": [
    "The goal of the dataset\n",
    "\n",
    "The source of the dataset\n",
    "\n",
    "The dataset was obtained from Kaggle and consists of diseases with their symptoms, descriptions, precautionary measures, and treatment suggestions.\n",
    " • Dataset URL: [Disease Symptom Description Dataset on Kaggle](https://www.kaggle.com/datasets/itachi9604/disease-symptom-description-dataset)\n",
    "\n",
    "General information:\n",
    "\n",
    "A dataset to provide the students a source to create a healthcare related system.\n",
    "There are columns containing diseases, their symptoms , precautions to be taken, and their weights.\n",
    "This dataset can be easily cleaned by using file handling in any language. The user only needs to understand how rows and coloumns are arranged.\n",
    "The data in this CSV sheet is for reference and training purposes only, and actual data may vary.\n",
    "The dataset contains the following attributes:\n",
    " • Disease: Name of the disease.\n",
    " • Symptoms: A list of symptoms commonly associated with the disease.\n",
    " • Description: A short medical summary of the disease.\n",
    " • Precautionary Steps: Suggested precautionary measures to avoid worsening the condition.\n",
    " • Recommended Treatment: General treatment suggestions or medications for managing the disease.\n",
    "\n",
    "Summary of the dataset\n",
    "\t•\tSample Data Preview:\n",
    "\n",
    "Disease\tSymptom_1\tSymptom_2\tSymptom_3\tSymptom_4\n",
    "Fungal infection\titching\tskin_rash\tnodal_skin_eruptions\tdischromic _patches\n",
    "Fungal infection\tskin_rash\tnodal_skin_eruptions\tdischromic _patches\t\n",
    "Fungal infection\titching\tnodal_skin_eruptions\tdischromic _patches\t\n",
    "Fungal infection\titching\tskin_rash\tdischromic _patches\t\n",
    "Fungal infection\titching\tskin_rash\tnodal_skin_eruptions\t\n",
    "Fungal infection\tskin_rash\tnodal_skin_eruptions\tdischromic _patches\t\n",
    "Fungal infection\titching\tnodal_skin_eruptions\tdischromic _patches\t\n",
    "Fungal infection\titching\tskin_rash\tdischromic _patches\t\n",
    "Fungal infection\titching\tskin_rash\tnodal_skin_eruptions\t\n",
    "Fungal infection\titching\tskin_rash\tnodal_skin_eruptions\tdischromic _patches\n",
    "Allergy\tcontinuous_sneezing\tshivering\tchills\twatering_from_eyes\n",
    "\n",
    "Preprocessing techniques:\n",
    "\n"
   ]
  },
  {
   "cell_type": "markdown",
   "id": "6730dbcb",
   "metadata": {},
   "source": []
  }
 ],
 "metadata": {
  "kernelspec": {
   "display_name": "Python 3 (ipykernel)",
   "language": "python",
   "name": "python3"
  },
  "language_info": {
   "codemirror_mode": {
    "name": "ipython",
    "version": 3
   },
   "file_extension": ".py",
   "mimetype": "text/x-python",
   "name": "python",
   "nbconvert_exporter": "python",
   "pygments_lexer": "ipython3",
   "version": "3.9.13"
  }
 },
 "nbformat": 4,
 "nbformat_minor": 5
}
